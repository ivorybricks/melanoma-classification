{
 "cells": [
  {
   "cell_type": "markdown",
   "metadata": {},
   "source": [
    "# XGBoost and CNN Results Combined"
   ]
  },
  {
   "cell_type": "markdown",
   "metadata": {},
   "source": [
    "## Setup"
   ]
  },
  {
   "cell_type": "code",
   "execution_count": 22,
   "metadata": {},
   "outputs": [],
   "source": [
    "import random\n",
    "import pandas as pd\n",
    "import numpy as np\n",
    "import matplotlib.pyplot as plt\n",
    "from matplotlib.ticker import StrMethodFormatter\n",
    "from matplotlib import pyplot\n",
    "\n",
    "pd.set_option(\"display.precision\", 2)\n",
    "%matplotlib inline\n",
    "\n",
    "import xgboost as xgb\n",
    "from sklearn.datasets import load_boston\n",
    "from sklearn.model_selection import train_test_split\n",
    "from sklearn.metrics import accuracy_score\n",
    "from sklearn.metrics import mean_squared_error\n",
    "from sklearn.metrics import roc_auc_score\n",
    "\n",
    "from numpy import loadtxt\n",
    "from xgboost import XGBClassifier\n",
    "from xgboost import plot_importance"
   ]
  },
  {
   "cell_type": "code",
   "execution_count": 23,
   "metadata": {},
   "outputs": [],
   "source": [
    "df_xg = pd.read_csv(\"/home/leslie/code/melanoma_predictions/submission.csv\")\n",
    "df_xg.columns=['image_name','xg_t']"
   ]
  },
  {
   "cell_type": "code",
   "execution_count": 24,
   "metadata": {},
   "outputs": [],
   "source": [
    "df_cnn = pd.read_csv(\"/home/leslie/code/melanoma_predictions/salient_crop_results_2.csv\")\n",
    "df_cnn.columns=['image_name','cnn_t']"
   ]
  },
  {
   "cell_type": "markdown",
   "metadata": {},
   "source": [
    "## Looping through results and taking the weighted average of target"
   ]
  },
  {
   "cell_type": "code",
   "execution_count": 25,
   "metadata": {},
   "outputs": [],
   "source": [
    "xg_weight = 0.3\n",
    "cnn_weight = 0.7\n",
    "\n",
    "#Apply weights\n",
    "df_xg[\"xg_t\"] = xg_weight * df_xg[\"xg_t\"]\n",
    "df_cnn[\"cnn_t\"] = cnn_weight * df_cnn[\"cnn_t\"]"
   ]
  },
  {
   "cell_type": "code",
   "execution_count": 26,
   "metadata": {
    "scrolled": true
   },
   "outputs": [],
   "source": [
    "df_comb = pd.concat([df_xg[\"image_name\"], df_xg[\"xg_t\"], df_cnn[\"cnn_t\"]], axis=1, sort=False)\n",
    "df_comb[\"target\"] = df_comb[\"xg_t\"] * df_comb[\"cnn_t\"] # New column = xg_t * cnn_t\n",
    "df_comb = df_comb.drop([\"xg_t\",\"cnn_t\"], axis=1)"
   ]
  },
  {
   "cell_type": "code",
   "execution_count": 27,
   "metadata": {},
   "outputs": [],
   "source": [
    "# df_comb[\"target\"] = df_comb[\"target\"].round(4)"
   ]
  },
  {
   "cell_type": "code",
   "execution_count": 28,
   "metadata": {},
   "outputs": [],
   "source": [
    "df_comb.to_csv('/home/leslie/code/melanoma_predictions/comb_results_6.csv', index = False, header = 1)"
   ]
  },
  {
   "cell_type": "code",
   "execution_count": null,
   "metadata": {},
   "outputs": [],
   "source": []
  }
 ],
 "metadata": {
  "kernelspec": {
   "display_name": "Python 3",
   "language": "python",
   "name": "python3"
  },
  "language_info": {
   "codemirror_mode": {
    "name": "ipython",
    "version": 3
   },
   "file_extension": ".py",
   "mimetype": "text/x-python",
   "name": "python",
   "nbconvert_exporter": "python",
   "pygments_lexer": "ipython3",
   "version": "3.8.3"
  }
 },
 "nbformat": 4,
 "nbformat_minor": 4
}
