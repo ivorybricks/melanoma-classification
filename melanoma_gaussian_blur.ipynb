{
 "cells": [
  {
   "cell_type": "code",
   "execution_count": 1,
   "metadata": {},
   "outputs": [],
   "source": [
    "import pandas as pd\n",
    "\n",
    "import numpy as np\n",
    "from tensorflow import keras\n",
    "from tensorflow.keras import layers\n",
    "\n",
    "from keras.preprocessing.image import load_img\n",
    "from keras.preprocessing.image import img_to_array\n",
    "from keras.preprocessing.image import array_to_img\n",
    "\n",
    "import PIL\n",
    "\n",
    "from tempfile import TemporaryFile\n",
    "from sklearn.model_selection import train_test_split\n",
    "\n",
    "import matplotlib.pyplot as plt\n",
    "\n"
   ]
  },
  {
   "cell_type": "code",
   "execution_count": 2,
   "metadata": {},
   "outputs": [],
   "source": [
    "import cv2\n",
    "import os\n",
    "import argparse"
   ]
  },
  {
   "cell_type": "code",
   "execution_count": 4,
   "metadata": {},
   "outputs": [],
   "source": [
    "original_path = \"/home/leslie/code/melanoma_files_small/jpeg/\"\n",
    "save_blur_path = \"/home/leslie/code/melanoma_files_small/gaussian_blur/\"\n",
    "categories = ['train', 'test']\n",
    "margin = 0\n",
    "kernel_size = 31\n",
    "percentage_of_area = 0\n",
    "\n",
    "# go into \"train\" or \"test\" folder\n",
    "for category in categories:\n",
    "    path = os.path.join(original_path, category)\n",
    "    save_path = os.path.join(save_blur_path, category)\n",
    "    \n",
    "    # loop over images in the folder\n",
    "    for saved_img in os.listdir(path):\n",
    "        \n",
    "        image_file = os.path.join(path,saved_img)\n",
    "\n",
    "        orig_img = cv2.imread(image_file) #0\n",
    "        blurred = cv2.GaussianBlur(orig_img,(5,5),0)\n",
    "                \n",
    "        cv2.imwrite(os.path.join(save_path + \"/\" + saved_img), blurred)\n",
    "        cv2.waitKey(0)\n",
    "        "
   ]
  },
  {
   "cell_type": "code",
   "execution_count": 29,
   "metadata": {},
   "outputs": [],
   "source": [
    "# import cv2\n",
    "# import numpy as np\n",
    "# from matplotlib import pyplot as plt\n",
    "\n",
    "# img_file = '/home/leslie/code/melanoma_files_small/jpeg/train/ISIC_0074542.jpg'\n",
    "# img = cv2.imread(img_file, cv2.IMREAD_UNCHANGED)\n",
    "\n",
    "# blur = cv2.GaussianBlur(img,(5,5),0)\n",
    "\n",
    "# plt.subplot(121),plt.imshow(img),plt.title('Original')\n",
    "# plt.xticks([]), plt.yticks([])\n",
    "# plt.subplot(122),plt.imshow(blur),plt.title('Blurred')\n",
    "# plt.xticks([]), plt.yticks([])\n",
    "# plt.show()"
   ]
  },
  {
   "cell_type": "code",
   "execution_count": null,
   "metadata": {},
   "outputs": [],
   "source": []
  }
 ],
 "metadata": {
  "kernelspec": {
   "display_name": "Python 3",
   "language": "python",
   "name": "python3"
  },
  "language_info": {
   "codemirror_mode": {
    "name": "ipython",
    "version": 3
   },
   "file_extension": ".py",
   "mimetype": "text/x-python",
   "name": "python",
   "nbconvert_exporter": "python",
   "pygments_lexer": "ipython3",
   "version": "3.8.3"
  }
 },
 "nbformat": 4,
 "nbformat_minor": 4
}
